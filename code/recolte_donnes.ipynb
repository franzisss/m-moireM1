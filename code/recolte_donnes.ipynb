{
  "cells": [
    {
      "cell_type": "code",
      "execution_count": null,
      "metadata": {
        "id": "Z_YtEN4ekvxt"
      },
      "outputs": [],
      "source": [
        "!pip install youtube-transcript-api\n",
        "from youtube_transcript_api import YouTubeTranscriptApi"
      ]
    },
    {
      "cell_type": "code",
      "source": [
        "def ma_fonction_transcription_et_enregistrement(id_youtube_list):\n",
        "    for index, item in enumerate(id_youtube_list):\n",
        "        transcription = YouTubeTranscriptApi.get_transcript(item, languages=['fr'])\n",
        "        df = pd.DataFrame(transcription)\n",
        "\n",
        "        df.to_csv(f\"transcriptions_video_{index + 1}.csv\", index=False)\n",
        "\n",
        "ma_liste_id_youtube = ['Dm_kEy43yrY&ab_channel=TV5MONDEInfo', 't=37s&ab_channel=TV5MONDEInfo']\n",
        "ma_fonction_transcription_et_enregistrement(ma_liste_id_youtube)"
      ],
      "metadata": {
        "id": "St0D8X-shlUh"
      },
      "execution_count": null,
      "outputs": []
    }
  ],
  "metadata": {
    "kernelspec": {
      "display_name": "scraping_youtube",
      "language": "python",
      "name": "python3"
    },
    "language_info": {
      "codemirror_mode": {
        "name": "ipython",
        "version": 3
      },
      "file_extension": ".py",
      "mimetype": "text/x-python",
      "name": "python",
      "nbconvert_exporter": "python",
      "pygments_lexer": "ipython3",
      "version": "3.8.18"
    },
    "colab": {
      "provenance": []
    }
  },
  "nbformat": 4,
  "nbformat_minor": 0
}